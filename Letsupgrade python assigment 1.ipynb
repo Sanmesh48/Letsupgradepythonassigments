{
 "cells": [
  {
   "cell_type": "code",
   "execution_count": 1,
   "id": "f6fd6f1d",
   "metadata": {},
   "outputs": [
    {
     "name": "stdout",
     "output_type": "stream",
     "text": [
      "Enter your age: 21\n",
      "You are an adult\n"
     ]
    }
   ],
   "source": [
    "#Write a Python program that asks the user to enter their age and then prints \"You are a minor\" if their age is less than 18, \"You are an adult\" if their age is greater than or equal to 18 and less than 65, and \"You are a senior\" if their age is 65 or greater\n",
    "\n",
    "age = int(input(\"Enter your age: \"))\n",
    "\n",
    "if age < 18:\n",
    "    print(\"You are a minor\")\n",
    "elif age < 65:\n",
    "    print(\"You are an adult\")\n",
    "else:\n",
    "    print(\"You are a senior\")"
   ]
  },
  {
   "cell_type": "code",
   "execution_count": null,
   "id": "677c50ac",
   "metadata": {},
   "outputs": [],
   "source": []
  }
 ],
 "metadata": {
  "kernelspec": {
   "display_name": "Python 3 (ipykernel)",
   "language": "python",
   "name": "python3"
  },
  "language_info": {
   "codemirror_mode": {
    "name": "ipython",
    "version": 3
   },
   "file_extension": ".py",
   "mimetype": "text/x-python",
   "name": "python",
   "nbconvert_exporter": "python",
   "pygments_lexer": "ipython3",
   "version": "3.9.13"
  }
 },
 "nbformat": 4,
 "nbformat_minor": 5
}
