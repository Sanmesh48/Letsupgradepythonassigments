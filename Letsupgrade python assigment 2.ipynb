{
 "cells": [
  {
   "cell_type": "code",
   "execution_count": 1,
   "id": "d7fd8a33",
   "metadata": {},
   "outputs": [
    {
     "name": "stdout",
     "output_type": "stream",
     "text": [
      "Enter String: How are you?\n",
      "\n",
      "Without Vowels = Hw r y?\n"
     ]
    }
   ],
   "source": [
    "print(\"Enter String: \", end=\"\")\n",
    "text = input()\n",
    "\n",
    "vowels = ['a', 'e', 'i', 'o', 'u', 'A', 'E', 'I', 'O', 'U']\n",
    "newtext = \"\"\n",
    "\n",
    "for c in text:\n",
    "    if c not in vowels:\n",
    "        newtext = newtext + c\n",
    "\n",
    "text = newtext\n",
    "print(\"\\nWithout Vowels =\", text)"
   ]
  },
  {
   "cell_type": "code",
   "execution_count": null,
   "id": "e1beccd3",
   "metadata": {},
   "outputs": [],
   "source": []
  }
 ],
 "metadata": {
  "kernelspec": {
   "display_name": "Python 3 (ipykernel)",
   "language": "python",
   "name": "python3"
  },
  "language_info": {
   "codemirror_mode": {
    "name": "ipython",
    "version": 3
   },
   "file_extension": ".py",
   "mimetype": "text/x-python",
   "name": "python",
   "nbconvert_exporter": "python",
   "pygments_lexer": "ipython3",
   "version": "3.9.13"
  }
 },
 "nbformat": 4,
 "nbformat_minor": 5
}
